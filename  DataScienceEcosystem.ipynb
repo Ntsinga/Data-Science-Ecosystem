{
 "cells": [
  {
   "cell_type": "markdown",
   "id": "a9f2a2da-a26d-4c22-b63e-2c354bb3ce04",
   "metadata": {},
   "source": [
    "# Data Science Tools and Ecosystem"
   ]
  },
  {
   "cell_type": "markdown",
   "id": "cbfca245-c68d-4886-bff4-18dec935b3a8",
   "metadata": {},
   "source": [
    "## In this notebook, Data Science Tools and Ecosystem are summarized."
   ]
  },
  {
   "cell_type": "markdown",
   "id": "a112740b-d605-4087-8093-db4668c04224",
   "metadata": {},
   "source": [
    "Some of the commonly used languages used by Data Scientists include:\n",
    "1. Python\n",
    "2. R\n",
    "3. SQL"
   ]
  },
  {
   "cell_type": "markdown",
   "id": "9853c384-0c9e-4e1a-bd08-40e9577c64c4",
   "metadata": {},
   "source": [
    "Some of the commonly used libraries used by Data Scientists include:\n",
    "1. Plotly\n",
    "2. Matplotlib\n",
    "3. Numpy"
   ]
  },
  {
   "cell_type": "markdown",
   "id": "2d021462-ac66-4f2f-b6c5-1a479f3cdd24",
   "metadata": {},
   "source": [
    "**Objectives:**\n",
    "* List popular languages used in data science\n",
    "* List common libraries used in data science\n",
    "* List popular development open source environments used in data science"
   ]
  },
  {
   "cell_type": "markdown",
   "id": "993d1ca9-3e34-41b1-8dd5-459c11ba0ccd",
   "metadata": {},
   "source": [
    "| Data Science Tools|\n",
    "|-------------------|\n",
    "| Visual Studio Code|\n",
    "|Jupyter Notebook|\n",
    "|Spyder|"
   ]
  },
  {
   "cell_type": "markdown",
   "id": "09f875d8-294a-4ed7-a1fe-74ab7288c583",
   "metadata": {},
   "source": [
    "### Below are a few examples of evaluating arithmetic expressions in Python"
   ]
  },
  {
   "cell_type": "code",
   "execution_count": 1,
   "id": "1103596c-dc22-4e81-b276-79498f21a6cc",
   "metadata": {},
   "outputs": [
    {
     "data": {
      "text/plain": [
       "17"
      ]
     },
     "execution_count": 1,
     "metadata": {},
     "output_type": "execute_result"
    }
   ],
   "source": [
    "(3*4)+5\n",
    "# This a simple arithmetic expression to mutiply then add integers"
   ]
  },
  {
   "cell_type": "code",
   "execution_count": 2,
   "id": "060a0781-6c2c-43e2-9c39-3f403047c239",
   "metadata": {},
   "outputs": [
    {
     "data": {
      "text/plain": [
       "3.3333333333333335"
      ]
     },
     "execution_count": 2,
     "metadata": {},
     "output_type": "execute_result"
    }
   ],
   "source": [
    "200/60\n",
    "# This will convert 200 minutes to hours by diving by 60"
   ]
  },
  {
   "cell_type": "markdown",
   "id": "1b4805ce-e009-4370-b029-72239f91e476",
   "metadata": {},
   "source": [
    "## Author\n",
    "Ntsinga Elijah Mukumbi"
   ]
  }
 ],
 "metadata": {
  "kernelspec": {
   "display_name": "Python 3 (ipykernel)",
   "language": "python",
   "name": "python3"
  },
  "language_info": {
   "codemirror_mode": {
    "name": "ipython",
    "version": 3
   },
   "file_extension": ".py",
   "mimetype": "text/x-python",
   "name": "python",
   "nbconvert_exporter": "python",
   "pygments_lexer": "ipython3",
   "version": "3.11.7"
  }
 },
 "nbformat": 4,
 "nbformat_minor": 5
}
